{
 "cells": [
  {
   "cell_type": "code",
   "execution_count": 1,
   "id": "42449f9c",
   "metadata": {},
   "outputs": [
    {
     "name": "stdout",
     "output_type": "stream",
     "text": [
      "10\n",
      "20\n",
      "pazartesi\n"
     ]
    },
    {
     "data": {
      "text/plain": [
       "str"
      ]
     },
     "execution_count": 1,
     "metadata": {},
     "output_type": "execute_result"
    }
   ],
   "source": [
    "a=10\n",
    "var1=20\n",
    "x=\"pazartesi\"\n",
    "\n",
    "print(a)\n",
    "print(var1)\n",
    "print(x)\n",
    "type(x)\n"
   ]
  },
  {
   "cell_type": "code",
   "execution_count": 2,
   "id": "3d358273",
   "metadata": {},
   "outputs": [
    {
     "name": "stdout",
     "output_type": "stream",
     "text": [
      "[10, 20, 30]\n"
     ]
    }
   ],
   "source": [
    "#DEFİNE A LİST\n",
    "var1=10\n",
    "var2=20\n",
    "var3=30\n",
    "list_int=[10,20,30]\n",
    "print(list_int)"
   ]
  },
  {
   "cell_type": "code",
   "execution_count": 3,
   "id": "8dfc78da",
   "metadata": {},
   "outputs": [
    {
     "data": {
      "text/plain": [
       "10"
      ]
     },
     "execution_count": 3,
     "metadata": {},
     "output_type": "execute_result"
    }
   ],
   "source": [
    "#First element of the list\n",
    "list_int[0]\n"
   ]
  },
  {
   "cell_type": "code",
   "execution_count": 4,
   "id": "e6e3330f",
   "metadata": {},
   "outputs": [
    {
     "data": {
      "text/plain": [
       "30"
      ]
     },
     "execution_count": 4,
     "metadata": {},
     "output_type": "execute_result"
    }
   ],
   "source": [
    "#Last element of the list\n",
    "list_int[-1]\n"
   ]
  },
  {
   "cell_type": "code",
   "execution_count": 5,
   "id": "b87fe5d5",
   "metadata": {},
   "outputs": [
    {
     "data": {
      "text/plain": [
       "[10, 20, 30]"
      ]
     },
     "execution_count": 5,
     "metadata": {},
     "output_type": "execute_result"
    }
   ],
   "source": [
    "#variables in the range of list\n",
    "list_int[0:3]\n"
   ]
  },
  {
   "cell_type": "code",
   "execution_count": 6,
   "id": "45c26420",
   "metadata": {},
   "outputs": [
    {
     "name": "stdout",
     "output_type": "stream",
     "text": [
      "[10, 20, 30, 25]\n"
     ]
    }
   ],
   "source": [
    "#to add variables to the list\n",
    "list_int.append(25)\n",
    "print(list_int)\n"
   ]
  },
  {
   "cell_type": "code",
   "execution_count": 7,
   "id": "3ed5e795",
   "metadata": {},
   "outputs": [
    {
     "name": "stdout",
     "output_type": "stream",
     "text": [
      "[10, 20, 30]\n"
     ]
    }
   ],
   "source": [
    "#to delete variables to the list \n",
    "list_int.remove(25)\n",
    "print(list_int)"
   ]
  },
  {
   "cell_type": "code",
   "execution_count": 8,
   "id": "e7305d04",
   "metadata": {},
   "outputs": [
    {
     "name": "stdout",
     "output_type": "stream",
     "text": [
      "[30, 20, 10]\n"
     ]
    }
   ],
   "source": [
    "#to print the list in reverse\n",
    "list_int.reverse()\n",
    "print(list_int)\n"
   ]
  },
  {
   "cell_type": "code",
   "execution_count": 9,
   "id": "4b70aafc",
   "metadata": {},
   "outputs": [
    {
     "name": "stdout",
     "output_type": "stream",
     "text": [
      "[10, 20, 30]\n"
     ]
    }
   ],
   "source": [
    "#to sort the list from smallest to largest\n",
    "list_int.sort()\n",
    "print(list_int)"
   ]
  },
  {
   "cell_type": "code",
   "execution_count": 10,
   "id": "107d3169",
   "metadata": {},
   "outputs": [
    {
     "name": "stdout",
     "output_type": "stream",
     "text": [
      "30\n"
     ]
    }
   ],
   "source": [
    "#to find maximum element with for loop\n",
    "x=10\n",
    "for each in list_int:\n",
    "    if(each>x):\n",
    "        x=each\n",
    "    else:\n",
    "        continue\n",
    "print(x)"
   ]
  },
  {
   "cell_type": "code",
   "execution_count": 11,
   "id": "f7f6be2e",
   "metadata": {},
   "outputs": [
    {
     "name": "stdout",
     "output_type": "stream",
     "text": [
      "0\n",
      "1\n",
      "2\n",
      "3\n",
      "4\n"
     ]
    }
   ],
   "source": [
    "#to print from 0 to 5 with while loop(5 is not included)\n",
    "i=0\n",
    "while(i<5):\n",
    "    print(i)\n",
    "    i=i+1"
   ]
  },
  {
   "cell_type": "code",
   "execution_count": 12,
   "id": "07427bfc",
   "metadata": {},
   "outputs": [
    {
     "data": {
      "text/plain": [
       "12.56"
      ]
     },
     "execution_count": 12,
     "metadata": {},
     "output_type": "execute_result"
    }
   ],
   "source": [
    "\n",
    "def cember_cevre(r,pi=3.14):  \n",
    "    result=2*pi*r\n",
    "    return result\n",
    "cember_cevre(2)                 "
   ]
  },
  {
   "cell_type": "code",
   "execution_count": 13,
   "id": "4228296d",
   "metadata": {},
   "outputs": [
    {
     "data": {
      "text/plain": [
       "25"
      ]
     },
     "execution_count": 13,
     "metadata": {},
     "output_type": "execute_result"
    }
   ],
   "source": [
    "def hesapla(x):\n",
    "    result=x*x\n",
    "    return result\n",
    "hesapla(5)"
   ]
  },
  {
   "cell_type": "code",
   "execution_count": 14,
   "id": "fd5ee13b",
   "metadata": {},
   "outputs": [
    {
     "name": "stdout",
     "output_type": "stream",
     "text": [
      "25\n"
     ]
    }
   ],
   "source": [
    "result=lambda x:x*x\n",
    "print(result(5))"
   ]
  },
  {
   "cell_type": "code",
   "execution_count": 15,
   "id": "848428c3",
   "metadata": {},
   "outputs": [
    {
     "name": "stdout",
     "output_type": "stream",
     "text": [
      "{'betül': 23, 'beyza': 20, 'irem': 25}\n"
     ]
    }
   ],
   "source": [
    "dictionary={\"betül\":23,\"beyza\":20,\"irem\":25}\n",
    "print(dictionary)"
   ]
  },
  {
   "cell_type": "code",
   "execution_count": 16,
   "id": "c2695456",
   "metadata": {},
   "outputs": [
    {
     "data": {
      "text/plain": [
       "dict"
      ]
     },
     "execution_count": 16,
     "metadata": {},
     "output_type": "execute_result"
    }
   ],
   "source": [
    "type(dictionary)\n"
   ]
  },
  {
   "cell_type": "code",
   "execution_count": 17,
   "id": "0ac8c3f8",
   "metadata": {},
   "outputs": [
    {
     "data": {
      "text/plain": [
       "dict_keys(['betül', 'beyza', 'irem'])"
      ]
     },
     "execution_count": 17,
     "metadata": {},
     "output_type": "execute_result"
    }
   ],
   "source": [
    "dictionary.keys()"
   ]
  },
  {
   "cell_type": "code",
   "execution_count": 18,
   "id": "7fc6149b",
   "metadata": {},
   "outputs": [
    {
     "data": {
      "text/plain": [
       "dict_values([23, 20, 25])"
      ]
     },
     "execution_count": 18,
     "metadata": {},
     "output_type": "execute_result"
    }
   ],
   "source": [
    "dictionary.values()"
   ]
  },
  {
   "cell_type": "code",
   "execution_count": 19,
   "id": "3b8e6f1f",
   "metadata": {},
   "outputs": [
    {
     "name": "stdout",
     "output_type": "stream",
     "text": [
      "yes\n"
     ]
    }
   ],
   "source": [
    "b=dictionary.keys()\n",
    "\n",
    "if \"betül\" in b:\n",
    "    print(\"yes\")\n",
    "else:\n",
    "    print(\"no\")"
   ]
  },
  {
   "cell_type": "code",
   "execution_count": null,
   "id": "43fcdcce",
   "metadata": {},
   "outputs": [],
   "source": []
  }
 ],
 "metadata": {
  "kernelspec": {
   "display_name": "Python 3 (ipykernel)",
   "language": "python",
   "name": "python3"
  },
  "language_info": {
   "codemirror_mode": {
    "name": "ipython",
    "version": 3
   },
   "file_extension": ".py",
   "mimetype": "text/x-python",
   "name": "python",
   "nbconvert_exporter": "python",
   "pygments_lexer": "ipython3",
   "version": "3.11.5"
  }
 },
 "nbformat": 4,
 "nbformat_minor": 5
}
